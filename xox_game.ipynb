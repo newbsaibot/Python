{
 "cells": [
  {
   "cell_type": "code",
   "execution_count": null,
   "metadata": {},
   "outputs": [
    {
     "name": "stdout",
     "output_type": "stream",
     "text": [
      " | | \n",
      "-+-+-\n",
      " | | \n",
      "-+-+-\n",
      " | | \n",
      "Turn for X. Move on which space? \n",
      "X\n",
      " | | \n",
      "-+-+-\n",
      " | | \n",
      "-+-+-\n",
      " | | \n",
      "Turn for O. Move on which space? \n",
      "mid-L\n",
      " | | \n",
      "-+-+-\n",
      "O| | \n",
      "-+-+-\n",
      " | | \n",
      "Turn for X. Move on which space? \n",
      "low-l\n",
      " | | \n",
      "-+-+-\n",
      "O| | \n",
      "-+-+-\n",
      " | | \n",
      "Turn for O. Move on which space? \n",
      "mid-M\n",
      " | | \n",
      "-+-+-\n",
      "O|O| \n",
      "-+-+-\n",
      " | | \n",
      "Turn for X. Move on which space? \n",
      "low-L\n",
      " | | \n",
      "-+-+-\n",
      "O|O| \n",
      "-+-+-\n",
      "X| | \n",
      "Turn for O. Move on which space? \n",
      "mid-R\n",
      " | | \n",
      "-+-+-\n",
      "O|O|O\n",
      "-+-+-\n",
      "X| | \n",
      "Turn for X. Move on which space? \n"
     ]
    }
   ],
   "source": [
    "theBoard = {'top-L': ' ', 'top-M': ' ', 'top-R': ' ', \n",
    "            'mid-L': ' ', 'mid-M': ' ', 'mid-R': ' ',\n",
    "            'low-L': ' ', 'low-M': ' ', 'low-R': ' '} \n",
    "def printBoard(board):\n",
    "    print(board['top-L'] + '|' + board['top-M'] + '|' + board['top-R'])\n",
    "    print(\"-+-+-\")\n",
    "    print(board['mid-L'] + '|' + board['mid-M'] + '|' + board['mid-R'])\n",
    "    print(\"-+-+-\")\n",
    "    print(board['low-L'] + '|' + board['low-M'] + '|' + board['low-R'])\n",
    "turn = 'X'\n",
    "for i in range(9):\n",
    "    printBoard(theBoard)\n",
    "    print (\"Turn for \" + turn + \". Move on which space? \")\n",
    "    move = input()\n",
    "    theBoard[move] = turn\n",
    "    if turn == 'X':\n",
    "        turn = 'O'\n",
    "    else:\n",
    "         turn = 'X'\n",
    "printBoard(theBoard)"
   ]
  }
 ],
 "metadata": {
  "kernelspec": {
   "display_name": "Python 3",
   "language": "python",
   "name": "python3"
  },
  "language_info": {
   "codemirror_mode": {
    "name": "ipython",
    "version": 3
   },
   "file_extension": ".py",
   "mimetype": "text/x-python",
   "name": "python",
   "nbconvert_exporter": "python",
   "pygments_lexer": "ipython3",
   "version": "3.7.0"
  }
 },
 "nbformat": 4,
 "nbformat_minor": 2
}
