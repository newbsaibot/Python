{
 "cells": [
  {
   "cell_type": "code",
   "execution_count": 10,
   "metadata": {},
   "outputs": [
    {
     "name": "stdout",
     "output_type": "stream",
     "text": [
      "Enter your current balance: 525\n",
      "amount out of range\n",
      "Your final balance is: \n",
      "525\n"
     ]
    }
   ],
   "source": [
    "amount = int(input(\"Enter your current balance: \")) #Declaring variable 'amount' to be an input that takes an integer from the user and stores it in the 'amount variable'\n",
    "\n",
    "\n",
    "if amount < 0:      #if the amount is less than zero(negative) apply a $10 fee\n",
    "    amount = amount - 10\n",
    "    \n",
    "elif amount == 0: #If amount is 0 apply a $5 fee\n",
    "    amount = amount - 5\n",
    "    \n",
    "elif (amount > 0 and amount < 500): #If amount is less than 500 apply a $1 fee\n",
    "    amount = amount - 1\n",
    "    \n",
    "elif amount == 500: #If amount 500, apply no fee, the amount stays current (DO NOTHING)\n",
    "    pass\n",
    "    \n",
    "elif (amount > 500 and amount > 1000): #If amount is greater than 500 and 1000 add 1% increase to amount\n",
    "    amount = amount + (amount/100)\n",
    "    \n",
    "elif amount >= 1000:  #If amount is 1000 or greater add 2% increase to amount\n",
    "    amount = amount(amount/100) * 2\n",
    "    \n",
    "else:\n",
    "    print (\"amount out of range\") #if 'out of range' print string\n",
    "    \n",
    "print (\"Your final balance is: \") #print the string \n",
    "print (amount); #print the amount\n",
    "\n",
    "    \n"
   ]
  },
  {
   "cell_type": "code",
   "execution_count": null,
   "metadata": {},
   "outputs": [],
   "source": []
  },
  {
   "cell_type": "code",
   "execution_count": null,
   "metadata": {},
   "outputs": [],
   "source": []
  }
 ],
 "metadata": {
  "kernelspec": {
   "display_name": "Python 3",
   "language": "python",
   "name": "python3"
  },
  "language_info": {
   "codemirror_mode": {
    "name": "ipython",
    "version": 3
   },
   "file_extension": ".py",
   "mimetype": "text/x-python",
   "name": "python",
   "nbconvert_exporter": "python",
   "pygments_lexer": "ipython3",
   "version": "3.7.0"
  }
 },
 "nbformat": 4,
 "nbformat_minor": 2
}
