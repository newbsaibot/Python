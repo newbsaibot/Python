{
 "cells": [
  {
   "cell_type": "code",
   "execution_count": null,
   "metadata": {},
   "outputs": [
    {
     "name": "stdout",
     "output_type": "stream",
     "text": [
      "Enter a value to be divided: 0\n",
      "You cannot divide by 0!\n"
     ]
    }
   ],
   "source": [
    "value = 123456\n",
    "while value > 1:\n",
    "    div = int(input (\"Enter a value to be divided: \"))\n",
    "    if div == 0:\n",
    "        print (\"You cannot divide by 0!\")\n",
    "        continue\n",
    "    value /= div\n",
    "    print (\"The value is now \", value)\n",
    "print (\"Done with the loop\")"
   ]
  },
  {
   "cell_type": "code",
   "execution_count": null,
   "metadata": {},
   "outputs": [],
   "source": []
  }
 ],
 "metadata": {
  "kernelspec": {
   "display_name": "Python 3",
   "language": "python",
   "name": "python3"
  },
  "language_info": {
   "codemirror_mode": {
    "name": "ipython",
    "version": 3
   },
   "file_extension": ".py",
   "mimetype": "text/x-python",
   "name": "python",
   "nbconvert_exporter": "python",
   "pygments_lexer": "ipython3",
   "version": "3.7.0"
  }
 },
 "nbformat": 4,
 "nbformat_minor": 2
}
