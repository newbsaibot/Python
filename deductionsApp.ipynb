{
 "cells": [
  {
   "cell_type": "code",
   "execution_count": null,
   "metadata": {},
   "outputs": [],
   "source": [
    "income = int (input(\"Enter your income: \")) #Declaring variable 'income' as a user input that takes in intergers and sets them to the variable income\n",
    "medicalCosts = int (input(\"Enter your medical cost: \")) #Declaring variable 'medicalCosts' as a user input that takes in intergers and sets them to the variable 'medicalCosts'\n",
    "deduction = 0 #Declaring the variable deduction and setting it to zero\n",
    "\n",
    "if income >= 100000: # If the income input is higher or equal to 100,000 the medical cost will be 10% of their 'income'\n",
    "    if medicalCosts > income / 10:\n",
    "        deduction = medicalCosts\n",
    "        \n",
    "    else: #if its anything less the 100,000 the dection for medical cost will be 1000\n",
    "        deduction = 1000\n",
    "        \n",
    "else:\n",
    "    if medicalCosts > income / 50: #If the income is less than 100,000 deductions are allowed for medicalCost but only if medicalCosts is 2% of their total income\n",
    "        \n",
    "        deduction = medicalCosts \n",
    "        \n",
    "    else:\n",
    "        deduction = 500 #If medical Cost is not more than 2%, deduction is flat fee of 500\n",
    "    \n",
    "print (\"Based on your income, your deduction is: \") #print string\n",
    "print (deduction) #print (deduction) output"
   ]
  },
  {
   "cell_type": "code",
   "execution_count": null,
   "metadata": {},
   "outputs": [],
   "source": []
  },
  {
   "cell_type": "code",
   "execution_count": null,
   "metadata": {},
   "outputs": [],
   "source": []
  }
 ],
 "metadata": {
  "kernelspec": {
   "display_name": "Python 3",
   "language": "python",
   "name": "python3"
  },
  "language_info": {
   "codemirror_mode": {
    "name": "ipython",
    "version": 3
   },
   "file_extension": ".py",
   "mimetype": "text/x-python",
   "name": "python",
   "nbconvert_exporter": "python",
   "pygments_lexer": "ipython3",
   "version": "3.7.0"
  }
 },
 "nbformat": 4,
 "nbformat_minor": 2
}
